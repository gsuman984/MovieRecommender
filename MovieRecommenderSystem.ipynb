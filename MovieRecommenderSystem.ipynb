{
 "cells": [
  {
   "cell_type": "markdown",
   "id": "bea717a1",
   "metadata": {},
   "source": [
    "# Movie Recommender System"
   ]
  },
  {
   "cell_type": "markdown",
   "id": "ceeb8fa2",
   "metadata": {},
   "source": [
    "## Data"
   ]
  },
  {
   "cell_type": "code",
   "execution_count": 1,
   "id": "148e09e5",
   "metadata": {},
   "outputs": [],
   "source": [
    "# import modules\n",
    "import numpy as np\n",
    "import pandas as pd\n",
    "import ast"
   ]
  },
  {
   "cell_type": "code",
   "execution_count": 2,
   "id": "e5f0fea0",
   "metadata": {},
   "outputs": [],
   "source": [
    "# take the datasets"
   ]
  },
  {
   "cell_type": "code",
   "execution_count": 3,
   "id": "c2b6e3af",
   "metadata": {
    "scrolled": false
   },
   "outputs": [],
   "source": [
    "movie = pd.read_csv('movies_metadata.csv')\n",
    "movie.head(2)"
   ]
  },
  {
   "cell_type": "code",
   "execution_count": 4,
   "id": "3c8feb7c",
   "metadata": {},
   "outputs": [],
   "source": [
    "key = pd.read_csv('keywords.csv')\n",
    "key['id'] = key['id'].astype(str)\n",
    "key.head(2)"
   ]
  },
  {
   "cell_type": "code",
   "execution_count": 5,
   "id": "7f51370f",
   "metadata": {},
   "outputs": [],
   "source": [
    "credit = pd.read_csv('credits.csv')\n",
    "credit['id'] = credit['id'].astype(str)\n",
    "credit.head(2)"
   ]
  },
  {
   "cell_type": "code",
   "execution_count": 6,
   "id": "1af821ea",
   "metadata": {},
   "outputs": [],
   "source": [
    "# removing duplicate values from data\n",
    "movie = movie.drop_duplicates().reset_index().drop('index', axis=1)\n",
    "key = key.drop_duplicates().reset_index().drop('index', axis=1)\n",
    "credit = credit.drop_duplicates().reset_index().drop('index', axis=1)\n",
    "# movie.duplicated().sum()\n",
    "# key.duplicated().sum()\n",
    "# credit.duplicated().sum()"
   ]
  },
  {
   "cell_type": "code",
   "execution_count": 7,
   "id": "906a9954",
   "metadata": {},
   "outputs": [],
   "source": [
    "# removing duplicate id, because we need unique ids\n",
    "movie = movie[~movie['id'].duplicated()]\n",
    "key = key[~key['id'].duplicated()]\n",
    "credit = credit[~credit['id'].duplicated()]\n",
    "print(movie['id'].duplicated().sum())\n",
    "print(key['id'].duplicated().sum())\n",
    "print(credit['id'].duplicated().sum())"
   ]
  },
  {
   "cell_type": "markdown",
   "id": "ec5ea9a6",
   "metadata": {},
   "source": [
    "<div style=\"color:purple; font-weight:bold; font-size:16px\">\n",
    "    Merge the datasets (using merge() function which is used on dataframe)\n",
    "<div>"
   ]
  },
  {
   "cell_type": "code",
   "execution_count": 8,
   "id": "1e9470ae",
   "metadata": {},
   "outputs": [],
   "source": [
    "movies=movie.merge(key.merge(credit, on='id'),  on='id')\n",
    "movies.head(1)"
   ]
  },
  {
   "cell_type": "markdown",
   "id": "e3760b80",
   "metadata": {},
   "source": [
    "<div style=\"color:purple; font-weight:bold; font-size:16px\">\n",
    "    picking up the most popular 3000 movies\n",
    "<div>"
   ]
  },
  {
   "cell_type": "code",
   "execution_count": 9,
   "id": "1235d355",
   "metadata": {},
   "outputs": [],
   "source": [
    "pick_movies_count = 3000\n",
    "movies = movies.sort_values(by='vote_count', ascending=False)[:pick_movies_count].reset_index().drop('index', axis=1)\n",
    "movies[['title', 'vote_count']].tail(3)"
   ]
  },
  {
   "cell_type": "code",
   "execution_count": 10,
   "id": "f234feb4",
   "metadata": {},
   "outputs": [],
   "source": [
    "movies.shape"
   ]
  },
  {
   "cell_type": "code",
   "execution_count": 11,
   "id": "6d53fa89",
   "metadata": {},
   "outputs": [],
   "source": [
    "movie.columns"
   ]
  },
  {
   "cell_type": "code",
   "execution_count": 12,
   "id": "a43c9558",
   "metadata": {
    "scrolled": true
   },
   "outputs": [],
   "source": [
    "movies.columns"
   ]
  },
  {
   "cell_type": "code",
   "execution_count": 13,
   "id": "1b355fe8",
   "metadata": {},
   "outputs": [],
   "source": [
    "# selecting only required columns\n",
    "movies = movies[['id', 'imdb_id','title', 'adult', 'belongs_to_collection', 'genres', 'original_language', 'production_companies', 'production_countries', 'keywords', 'cast', 'crew', 'overview']]\n",
    "movies.head(1)"
   ]
  },
  {
   "cell_type": "markdown",
   "id": "fb0470fc",
   "metadata": {},
   "source": [
    "<div style=\"color:purple; font-weight:bold; font-size:16px\">\n",
    "    Handling the null values\n",
    "<div>"
   ]
  },
  {
   "cell_type": "code",
   "execution_count": 14,
   "id": "9db68dbc",
   "metadata": {},
   "outputs": [],
   "source": [
    "movies.isnull().sum()"
   ]
  },
  {
   "cell_type": "code",
   "execution_count": 15,
   "id": "07cb5087",
   "metadata": {},
   "outputs": [],
   "source": [
    "movies['original_language'] = movies['original_language'].fillna('en')\n",
    "movies['belongs_to_collection'] = movies['belongs_to_collection'].fillna(\"{'name': ''}\")\n",
    "movies['imdb_id'] = movies['imdb_id'].fillna(\"na_imdb_id\")\n",
    "movies['overview'] = movies['overview'].fillna('')"
   ]
  },
  {
   "cell_type": "code",
   "execution_count": 16,
   "id": "ea3915b9",
   "metadata": {},
   "outputs": [],
   "source": [
    "movies.isnull().sum().sum()"
   ]
  },
  {
   "cell_type": "code",
   "execution_count": 17,
   "id": "6f9ef0fd",
   "metadata": {},
   "outputs": [],
   "source": [
    "# movies2 = movies2.dropna(subset=['title'], axis=0)\n",
    "# movies2[movies2['title'].isnull()]"
   ]
  },
  {
   "cell_type": "code",
   "execution_count": 18,
   "id": "2c3b2454",
   "metadata": {},
   "outputs": [],
   "source": [
    "# movies2['production_countries'] = movies2['production_countries'].fillna(\"[{'iso_3166_1': 'US', 'name': 'United States of America'}]\")\n",
    "# movies2.isnull().sum()"
   ]
  },
  {
   "cell_type": "markdown",
   "id": "7e7a150d",
   "metadata": {},
   "source": [
    "<div style=\"color:purple; font-weight:bold; font-size:16px\">\n",
    "    Making tag for each movie\n",
    "<div>"
   ]
  },
  {
   "cell_type": "code",
   "execution_count": 19,
   "id": "d5816ba1",
   "metadata": {},
   "outputs": [],
   "source": [
    "# make a new dataframe having only 3 column : movie_id, title, tag (try to make a tag column using the remaining columns)\n",
    "#     at first convert the ramining data into significant format"
   ]
  },
  {
   "cell_type": "code",
   "execution_count": 20,
   "id": "6fe74a13",
   "metadata": {},
   "outputs": [],
   "source": [
    "movies.sample(2)"
   ]
  },
  {
   "cell_type": "code",
   "execution_count": 21,
   "id": "8b54f889",
   "metadata": {},
   "outputs": [],
   "source": [
    "movies['adult'] = movies['adult'].apply(lambda x : 'adult' if x=='True' else 'not_adult')\n",
    "movies['adult'].value_counts()\n",
    "# since all movies has tag 'not_adult' so we simply remove this\n",
    "movies.drop('adult', axis=1, inplace=True)"
   ]
  },
  {
   "cell_type": "code",
   "execution_count": 22,
   "id": "a7fa40fc",
   "metadata": {},
   "outputs": [],
   "source": [
    "def convert1(collection):\n",
    "    for i,j in ast.literal_eval(collection).items():\n",
    "        if i=='name': \n",
    "            return ['_'.join(j.split()).lower()]"
   ]
  },
  {
   "cell_type": "code",
   "execution_count": 23,
   "id": "a062a3ac",
   "metadata": {},
   "outputs": [],
   "source": [
    "movies['belongs_to_collection'] = movies['belongs_to_collection'].apply(convert1)"
   ]
  },
  {
   "cell_type": "code",
   "execution_count": 24,
   "id": "ba268802",
   "metadata": {},
   "outputs": [],
   "source": [
    "def convert2(genere):\n",
    "    L = []\n",
    "    for d in ast.literal_eval(genere):\n",
    "        L.append('_'.join(d['name'].split()).lower())\n",
    "    return L"
   ]
  },
  {
   "cell_type": "code",
   "execution_count": 25,
   "id": "c0ca6bba",
   "metadata": {},
   "outputs": [],
   "source": [
    "movies['genres'] = movies['genres'].apply(convert2)"
   ]
  },
  {
   "cell_type": "code",
   "execution_count": 26,
   "id": "473fceb3",
   "metadata": {},
   "outputs": [],
   "source": [
    "movies['production_companies'] = movies['production_companies'].apply(convert2)"
   ]
  },
  {
   "cell_type": "code",
   "execution_count": 27,
   "id": "675d380e",
   "metadata": {},
   "outputs": [],
   "source": [
    "movies['production_countries'] = movies['production_countries'].apply(convert2)"
   ]
  },
  {
   "cell_type": "code",
   "execution_count": 28,
   "id": "23c6e9b1",
   "metadata": {},
   "outputs": [],
   "source": [
    "movies['keywords'] = movies['keywords'].apply(convert2)"
   ]
  },
  {
   "cell_type": "code",
   "execution_count": 29,
   "id": "7f961daf",
   "metadata": {},
   "outputs": [],
   "source": [
    "def convert3(cast):\n",
    "    L = []\n",
    "    for d in ast.literal_eval(cast)[:3]:\n",
    "        L.append('_'.join(d['name'].split()).lower())\n",
    "    return L"
   ]
  },
  {
   "cell_type": "code",
   "execution_count": 30,
   "id": "3d9361e4",
   "metadata": {},
   "outputs": [],
   "source": [
    "movies['cast'] = movies['cast'].apply(convert3)"
   ]
  },
  {
   "cell_type": "code",
   "execution_count": 31,
   "id": "ec05d679",
   "metadata": {},
   "outputs": [],
   "source": [
    "def convert4(crew):\n",
    "    L = []\n",
    "    for d in ast.literal_eval(crew):\n",
    "        if d['department']=='Directing':\n",
    "            L.append('_'.join(d['name'].split()).lower())\n",
    "    return L"
   ]
  },
  {
   "cell_type": "code",
   "execution_count": 32,
   "id": "f2b12413",
   "metadata": {},
   "outputs": [],
   "source": [
    "movies['crew'] = movies['crew'].apply(convert4)"
   ]
  },
  {
   "cell_type": "code",
   "execution_count": 33,
   "id": "0ba1aa45",
   "metadata": {
    "scrolled": true
   },
   "outputs": [],
   "source": [
    "movies['tag'] = (movies['title'].apply(lambda title : [title])+movies['belongs_to_collection']+movies['genres']+movies['original_language'].apply(lambda lan : [lan])+movies['production_companies']+movies['production_countries']+movies['keywords']+movies['cast']+movies['crew']).apply(lambda tag : ' '.join(tag))\n",
    "# movies['tag'] = (movies['title'].apply(lambda title : [title])+movies['belongs_to_collection']+movies['genres']+movies['production_companies']).apply(lambda tag : ' '.join(tag))\n",
    "# movies['tag'] = (movies['belongs_to_collection']).apply(lambda tag : ' '.join(tag))\n",
    "movies['tag'].iloc[0]"
   ]
  },
  {
   "cell_type": "code",
   "execution_count": 34,
   "id": "ad7a4172",
   "metadata": {},
   "outputs": [],
   "source": [
    "movies1 = movies[['id', 'imdb_id', 'belongs_to_collection', 'title', 'tag']]\n",
    "movies1.sample(5)"
   ]
  },
  {
   "cell_type": "code",
   "execution_count": 35,
   "id": "fbafde09",
   "metadata": {},
   "outputs": [],
   "source": [
    "# movies3['tag'][23]"
   ]
  },
  {
   "cell_type": "code",
   "execution_count": 36,
   "id": "04d45f59",
   "metadata": {},
   "outputs": [],
   "source": [
    "# import nltk\n",
    "\n",
    "# nltk.download('punkt')  # Downloads the punkt tokenizer\n",
    "# nltk.download('averaged_perceptron_tagger')  # Downloads the part-of-speech tagger\n",
    "# nltk.download('wordnet')  # Downloads the WordNet lemmatizer and corpus\n",
    "# nltk.download('stopwords')  # Downloads the stopwords corpus\n",
    "# nltk.download('maxent_ne_chunker')  # Downloads the named entity chunker\n",
    "# nltk.download('words')  # Downloads the list of words\n"
   ]
  },
  {
   "cell_type": "code",
   "execution_count": 37,
   "id": "8badd99f",
   "metadata": {},
   "outputs": [],
   "source": [
    "# we are unable to build ML model with this large dataset, so we take a slice of the dataset\n",
    "\n",
    "# movies4 = movies3.iloc[0:40000:5]\n",
    "# movies4.shape\n",
    "# movies4.head()"
   ]
  },
  {
   "cell_type": "markdown",
   "id": "9f8d2cd8",
   "metadata": {},
   "source": [
    "<div style=\"color:purple; font-weight:bold; font-size:16px\">\n",
    "    Stemming of tags\n",
    "<div>"
   ]
  },
  {
   "cell_type": "code",
   "execution_count": 38,
   "id": "e92720b0",
   "metadata": {},
   "outputs": [],
   "source": [
    "from nltk.stem import PorterStemmer\n",
    "from nltk.tokenize import word_tokenize\n",
    "ps = PorterStemmer()\n",
    "def stemming(sentence):\n",
    "    words = word_tokenize(sentence)\n",
    "    stemmed_words = []\n",
    "    for w in words:\n",
    "        stemmed_words.append(ps.stem(w))\n",
    "    return ' '.join(stemmed_words)"
   ]
  },
  {
   "cell_type": "code",
   "execution_count": 39,
   "id": "0c467e91",
   "metadata": {},
   "outputs": [],
   "source": [
    "movies1['tag'] = movies1['tag'].apply(stemming)"
   ]
  },
  {
   "cell_type": "code",
   "execution_count": 40,
   "id": "00a26c1c",
   "metadata": {},
   "outputs": [],
   "source": [
    "print(movies1['tag'][0])"
   ]
  },
  {
   "cell_type": "markdown",
   "id": "65ef496f",
   "metadata": {},
   "source": [
    "<div style=\"color:purple; font-weight:bold; font-size:16px\">\n",
    "    Movie Search Engine  \n",
    "<div>"
   ]
  },
  {
   "cell_type": "code",
   "execution_count": 41,
   "id": "e68c2d4c",
   "metadata": {
    "scrolled": false
   },
   "outputs": [],
   "source": [
    "def movie_search_engine(movie_name):\n",
    "    L = []\n",
    "    for i in range(len(movies1['title'])):\n",
    "        name = movies1['title'][i]\n",
    "        if movie_name.lower() in name.lower():\n",
    "            L.append(i)\n",
    "    return movies1.iloc[L]\n",
    "movie_search_engine(movie_name='harry')\n",
    "# movies.iloc[[2,5]]"
   ]
  },
  {
   "cell_type": "markdown",
   "id": "3c5423b3",
   "metadata": {},
   "source": [
    "<div style=\"color:purple; font-weight:bold; font-size:16px\">\n",
    "    Vectorization    \n",
    "<div>"
   ]
  },
  {
   "cell_type": "code",
   "execution_count": 42,
   "id": "69eee733",
   "metadata": {},
   "outputs": [],
   "source": [
    "from sklearn.feature_extraction.text import CountVectorizer\n",
    "# from sklearn.feature_extraction.text import HashingVectorizer\n",
    "vectorizer = CountVectorizer(max_features=5000, stop_words='english')\n",
    "# vectorizer = HashingVectorizer(n_features=15000, stop_words='english')\n",
    "vectors = vectorizer.fit_transform(movies1['tag'])"
   ]
  },
  {
   "cell_type": "code",
   "execution_count": 43,
   "id": "93002931",
   "metadata": {},
   "outputs": [],
   "source": [
    "# a = vectorizer.get_feature_names_out()\n",
    "# print(a[:20])\n",
    "# vectorizer.get_stop_words()"
   ]
  },
  {
   "cell_type": "code",
   "execution_count": 44,
   "id": "272a1391",
   "metadata": {},
   "outputs": [],
   "source": [
    "vectors.dtype"
   ]
  },
  {
   "cell_type": "code",
   "execution_count": 45,
   "id": "a38a503e",
   "metadata": {},
   "outputs": [],
   "source": [
    "a = vectorizer.get_feature_names_out()\n",
    "sorted(a)[50:]"
   ]
  },
  {
   "cell_type": "code",
   "execution_count": 46,
   "id": "2ff5f374",
   "metadata": {},
   "outputs": [],
   "source": [
    "# may take too much space, so we change the dtype\n",
    "vectors.dtype = np.int32"
   ]
  },
  {
   "cell_type": "code",
   "execution_count": 47,
   "id": "9852ed01",
   "metadata": {},
   "outputs": [],
   "source": [
    "vectors_arr = vectors.toarray()"
   ]
  },
  {
   "cell_type": "code",
   "execution_count": 48,
   "id": "19bb0b03",
   "metadata": {},
   "outputs": [],
   "source": [
    "vectors_arr.dtype"
   ]
  },
  {
   "cell_type": "code",
   "execution_count": 49,
   "id": "9dfd76db",
   "metadata": {},
   "outputs": [],
   "source": [
    "a = vectors_arr\n",
    "i = 25\n",
    "print(np.sum(a[i]==0))\n",
    "print(np.sum(a[i]!=0))\n",
    "# print(a[a(i)==0])"
   ]
  },
  {
   "cell_type": "markdown",
   "id": "8edcdd95",
   "metadata": {},
   "source": [
    "<div style=\"color:purple; font-weight:bold; font-size:16px\">\n",
    "    Cosine Similarities   \n",
    "<div>"
   ]
  },
  {
   "cell_type": "code",
   "execution_count": 50,
   "id": "e28e0b78",
   "metadata": {},
   "outputs": [],
   "source": [
    "len(vectors_arr)"
   ]
  },
  {
   "cell_type": "code",
   "execution_count": 51,
   "id": "62225f14",
   "metadata": {},
   "outputs": [],
   "source": [
    "# def vector_chunks_generator(vectors_arr, chunks):\n",
    "#     chunk_size = len(vectors_arr) / chunks\n",
    "#     for i in range(chunks):\n",
    "#         yield vectors_arr[i*chunk_size : (i+1)*chunk_size+1]\n",
    "# vector_chunks = vector_chunks_generator(vectors_arr, 10)\n",
    "# vector_chunks.next()"
   ]
  },
  {
   "cell_type": "code",
   "execution_count": 52,
   "id": "758dd02b",
   "metadata": {},
   "outputs": [],
   "source": [
    "# from scipy.sparse import csr_matrix\n",
    "# vectors_arr_sparse = csr_matrix(vectors_arr)"
   ]
  },
  {
   "cell_type": "code",
   "execution_count": 53,
   "id": "7c4a77d4",
   "metadata": {
    "scrolled": true
   },
   "outputs": [],
   "source": [
    "# cosine similarity\n",
    "\n",
    "from sklearn.metrics.pairwise import cosine_similarity\n",
    "similarities = cosine_similarity(vectors_arr)"
   ]
  },
  {
   "cell_type": "code",
   "execution_count": 54,
   "id": "4ac84bfb",
   "metadata": {},
   "outputs": [],
   "source": [
    "# def calculate_cosine_similarity(array):\n",
    "#     n = len(array)\n",
    "#     similarities = []\n",
    "#     for i in range(n):\n",
    "#         arr = []\n",
    "#         for j in range(n):\n",
    "#             cs = cosine_similarity([array[i], array[j]])\n",
    "#             if cs[0][1]: arr.append((j, cs[0][1]))\n",
    "#         similarities.append(arr)\n",
    "#         print(i)\n",
    "#     return similarities\n",
    "# similarities = calculate_cosine_similarity(vectors_arr)"
   ]
  },
  {
   "cell_type": "code",
   "execution_count": 55,
   "id": "25f40202",
   "metadata": {},
   "outputs": [],
   "source": [
    "print(movie_search_engine('harry'))\n",
    "similarities[32][64]"
   ]
  },
  {
   "cell_type": "code",
   "execution_count": 56,
   "id": "d412b51b",
   "metadata": {
    "scrolled": false
   },
   "outputs": [],
   "source": [
    "# sorted(enumerate(similarities[0]), reverse  = True, key=lambda x : x[1])"
   ]
  },
  {
   "cell_type": "code",
   "execution_count": 57,
   "id": "b19cf2bc",
   "metadata": {},
   "outputs": [],
   "source": [
    "# def numpy_to_indexed_2d_list(arr):\n",
    "#     lis = []\n",
    "#     for a in arr:\n",
    "#         lis.append(list(a))\n",
    "#     return lis "
   ]
  },
  {
   "cell_type": "code",
   "execution_count": 58,
   "id": "105aa322",
   "metadata": {},
   "outputs": [],
   "source": [
    "# similarities2 = numpy_to_indexed_2d_list(similarities)\n",
    "# similarities2"
   ]
  },
  {
   "cell_type": "code",
   "execution_count": 59,
   "id": "30fdb86f",
   "metadata": {},
   "outputs": [],
   "source": [
    "# movies3[movies3['title']=='The American President']\n",
    "# sorted(similarities[0], reverse=1)\n",
    "# a = enumerate(similarities[0])\n",
    "# a = list(a)\n",
    "# sorted(a, reverse=1, key= lambda x : x[1])"
   ]
  },
  {
   "cell_type": "code",
   "execution_count": 60,
   "id": "e351ccdd",
   "metadata": {},
   "outputs": [],
   "source": [
    "def from_same_series(movie_index):\n",
    "    series = movies1['belongs_to_collection'][movie_index]\n",
    "    L = []\n",
    "    for i in range(movies1.shape[0]):\n",
    "        if i != movie_index and series != [''] and series == movies1['belongs_to_collection'][i]:\n",
    "            L.append(i)\n",
    "    return L\n",
    "def recommend(movie):\n",
    "    movie_index = movies1[movies1['title']==movie].index[0]\n",
    "    all_suggest = sorted(enumerate(similarities[movie_index]), reverse=True, key=lambda x : x[1])\n",
    "    same_series = from_same_series(movie_index)\n",
    "    L = []\n",
    "    suggest_count = 10\n",
    "    for s in all_suggest:\n",
    "        if not same_series or not suggest_count: break\n",
    "        if s[0] in same_series:\n",
    "            L.append(s[0])\n",
    "            same_series.remove(s[0])\n",
    "            suggest_count -= 1\n",
    "    for s in all_suggest[1:]:\n",
    "        if not suggest_count: break\n",
    "        if s[0] not in L: \n",
    "            L.append(s[0])\n",
    "            suggest_count -= 1\n",
    "    return list(movies1['title'].iloc[L])"
   ]
  },
  {
   "cell_type": "code",
   "execution_count": 61,
   "id": "9f0b0961",
   "metadata": {
    "scrolled": false
   },
   "outputs": [],
   "source": [
    "recommend(\"Interstellar\")"
   ]
  },
  {
   "cell_type": "code",
   "execution_count": 62,
   "id": "2487866b",
   "metadata": {},
   "outputs": [],
   "source": [
    "movie_search_engine('interstellar')"
   ]
  },
  {
   "cell_type": "code",
   "execution_count": 63,
   "id": "9b43809a",
   "metadata": {},
   "outputs": [],
   "source": [
    "from_same_series(32)"
   ]
  },
  {
   "cell_type": "code",
   "execution_count": 65,
   "id": "a46c36b1",
   "metadata": {},
   "outputs": [],
   "source": [
    "similarities.dtype"
   ]
  },
  {
   "cell_type": "code",
   "execution_count": 64,
   "id": "42af7fe8",
   "metadata": {},
   "outputs": [],
   "source": [
    "import pickle\n",
    "pickle.dump(movies1, open(\"movies.pkl\", 'wb'))\n",
    "pickle.dump(similarities, open(\"similarities.pkl\", 'wb'))"
   ]
  }
 ],
 "metadata": {
  "kernelspec": {
   "display_name": "Python 3 (ipykernel)",
   "language": "python",
   "name": "python3"
  },
  "language_info": {
   "codemirror_mode": {
    "name": "ipython",
    "version": 3
   },
   "file_extension": ".py",
   "mimetype": "text/x-python",
   "name": "python",
   "nbconvert_exporter": "python",
   "pygments_lexer": "ipython3",
   "version": "3.11.3"
  }
 },
 "nbformat": 4,
 "nbformat_minor": 5
}
